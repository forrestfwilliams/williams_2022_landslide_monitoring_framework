{
 "cells": [
  {
   "cell_type": "code",
   "execution_count": 1,
   "id": "4d4279be-0e80-42ef-9098-432a27b2970c",
   "metadata": {},
   "outputs": [],
   "source": [
    "%matplotlib inline\n",
    "import matplotlib.pyplot as plt\n",
    "import geopandas as gpd\n",
    "import pandas as pd\n",
    "import numpy as np\n",
    "import rasterio as rio\n",
    "from scipy.optimize import curve_fit\n",
    "from sklearn import metrics\n",
    "import rasterstats"
   ]
  },
  {
   "cell_type": "code",
   "execution_count": 2,
   "id": "593d3b41-b285-4205-a79c-c6ace759e8e8",
   "metadata": {},
   "outputs": [
    {
     "name": "stdout",
     "output_type": "stream",
     "text": [
      "/home/micromamba/data\n"
     ]
    }
   ],
   "source": [
    "cd /home/micromamba/data"
   ]
  },
  {
   "cell_type": "code",
   "execution_count": 3,
   "id": "ca84edac-348d-4816-ab30-e25e144133f2",
   "metadata": {},
   "outputs": [],
   "source": [
    "def linear(x,a):\n",
    "    return a*x\n",
    "\n",
    "def calculate_rate(df,location='start'):\n",
    "    df['years'] = (df.date - df.date.min()).dt.days / 365.25\n",
    "\n",
    "    rates = pd.DataFrame()\n",
    "    names = df.name.unique()\n",
    "\n",
    "    for name in names:\n",
    "        # Grab data\n",
    "        loc = df.loc[df.name==name].copy()\n",
    "\n",
    "        # Get yearly peg displacement rate\n",
    "        n_rate = curve_fit(linear,loc['years'],loc['cum_n_disp'])[0][0]\n",
    "        e_rate = curve_fit(linear,loc['years'],loc['cum_e_disp'])[0][0]\n",
    "        \n",
    "        # tdiff = loc.years.max() - loc.years.min()\n",
    "        # e_rate = loc['cum_e_disp'].max() / tdiff\n",
    "        # n_rate = loc['cum_n_disp'].max() / tdiff\n",
    "        \n",
    "        if location == 'start':\n",
    "            min_date = loc.date.min()\n",
    "            e = float(loc.loc[loc.date==min_date,'east'])\n",
    "            n = float(loc.loc[loc.date==min_date,'north'])\n",
    "        elif location == 'average':\n",
    "            e = loc.east.mean()\n",
    "            n = loc.north.mean()\n",
    "        elif location == 'end':\n",
    "            max_date = loc.date.max()\n",
    "            e = float(loc.loc[loc.date==max_date,'east'])\n",
    "            n = float(loc.loc[loc.date==max_date,'north'])\n",
    "        \n",
    "        row = {'name':name,'e_rate':e_rate,'n_rate':n_rate,'east':e,'north':n}\n",
    "        rates = rates.append(row,ignore_index=True)\n",
    "    \n",
    "    points = gpd.points_from_xy(rates['east'],rates['north'],crs='EPSG:32760')\n",
    "    rates_geo = gdf = gpd.GeoDataFrame(rates, geometry=points)\n",
    "    return rates_geo"
   ]
  },
  {
   "cell_type": "code",
   "execution_count": 4,
   "id": "668d9fef-9241-4291-a1b7-22cfac1a7b65",
   "metadata": {},
   "outputs": [],
   "source": [
    "bird_point = gpd.read_file('bird_point_tracking.shp')\n",
    "rang_point = gpd.read_file('rangitikei_pegs.shp')"
   ]
  },
  {
   "cell_type": "code",
   "execution_count": 5,
   "id": "4cc6609c-b4ac-4ad6-adaa-fd4f2af8b6b3",
   "metadata": {},
   "outputs": [],
   "source": [
    "rang_point = rang_point.drop(columns=['elev','e_disp','n_disp','v_disp','cum_v_disp'])\n",
    "rang_point['date'] = pd.to_datetime(rang_point.date)"
   ]
  },
  {
   "cell_type": "code",
   "execution_count": 10,
   "id": "316b2767-939a-414f-976d-1ae1e6609631",
   "metadata": {},
   "outputs": [],
   "source": [
    "bird_point = bird_point.rename(columns={'id':'name','year':'date','easting':'east','northing':'north'})\n",
    "bird_point['name'] = 'Peg ' + bird_point.name.astype(str)"
   ]
  },
  {
   "cell_type": "code",
   "execution_count": 11,
   "id": "490fe978-c452-4b63-8eba-ab7ea9cc9b00",
   "metadata": {},
   "outputs": [
    {
     "data": {
      "text/html": [
       "<div>\n",
       "<style scoped>\n",
       "    .dataframe tbody tr th:only-of-type {\n",
       "        vertical-align: middle;\n",
       "    }\n",
       "\n",
       "    .dataframe tbody tr th {\n",
       "        vertical-align: top;\n",
       "    }\n",
       "\n",
       "    .dataframe thead th {\n",
       "        text-align: right;\n",
       "    }\n",
       "</style>\n",
       "<table border=\"1\" class=\"dataframe\">\n",
       "  <thead>\n",
       "    <tr style=\"text-align: right;\">\n",
       "      <th></th>\n",
       "      <th>east_offset</th>\n",
       "      <th>north_offset</th>\n",
       "    </tr>\n",
       "  </thead>\n",
       "  <tbody>\n",
       "    <tr>\n",
       "      <th>mean</th>\n",
       "      <td>0.436733</td>\n",
       "      <td>0.220933</td>\n",
       "    </tr>\n",
       "    <tr>\n",
       "      <th>std</th>\n",
       "      <td>0.280736</td>\n",
       "      <td>0.239117</td>\n",
       "    </tr>\n",
       "  </tbody>\n",
       "</table>\n",
       "</div>"
      ],
      "text/plain": [
       "      east_offset  north_offset\n",
       "mean     0.436733      0.220933\n",
       "std      0.280736      0.239117"
      ]
     },
     "execution_count": 11,
     "metadata": {},
     "output_type": "execute_result"
    }
   ],
   "source": [
    "cps = bird_point.loc[bird_point['type']=='c'].copy().pivot(\n",
    "    index='name', columns='date', values=['east','north'])\n",
    "cps.columns = [f'{d}_{y}' for d,y in cps.columns]\n",
    "cps = cps.reset_index()\n",
    "\n",
    "cps['east_offset'] = cps.east_2021 - cps.east_2016\n",
    "cps['north_offset'] = cps.north_2021 - cps.north_2016\n",
    "\n",
    "error = cps[['east_offset','north_offset']].describe().loc[['mean','std']]\n",
    "e_error = error.loc['mean','east_offset']\n",
    "n_error = error.loc['mean','north_offset']\n",
    "error"
   ]
  },
  {
   "cell_type": "code",
   "execution_count": 12,
   "id": "1cd6df2b-d8ea-4c33-bff9-81d7d33db3ac",
   "metadata": {},
   "outputs": [],
   "source": [
    "bird_point = bird_point.loc[bird_point['type']=='l'].copy().reset_index(drop=True)\n",
    "bird_point.loc[bird_point.date==2021,'east'] = bird_point.loc[bird_point.date==2021,'east'] - e_error\n",
    "bird_point.loc[bird_point.date==2021,'north'] = bird_point.loc[bird_point.date==2021,'north'] - n_error"
   ]
  },
  {
   "cell_type": "code",
   "execution_count": 13,
   "id": "b172efbd-a872-4e24-a975-868b621c5615",
   "metadata": {},
   "outputs": [],
   "source": [
    "bird_point['cum_e_disp'] = 0.0\n",
    "bird_point['cum_n_disp'] = 0.0\n",
    "\n",
    "groups = bird_point.groupby(['name'])\n",
    "for name, grp in groups:\n",
    "    e_disp = float(grp.loc[grp.date==2021,'east']) - float(grp.loc[grp.date==2016,'east'])\n",
    "    n_disp = float(grp.loc[grp.date==2021,'north']) - float(grp.loc[grp.date==2016,'north'])\n",
    "    \n",
    "    bird_point.loc[(bird_point['name']==name) & (bird_point.date==2021),'cum_e_disp'] = e_disp\n",
    "    bird_point.loc[(bird_point.name==name) & (bird_point.date==2021),'cum_n_disp'] = n_disp"
   ]
  },
  {
   "cell_type": "code",
   "execution_count": 14,
   "id": "801186c3-4297-4bb5-9468-96c7af6719bb",
   "metadata": {},
   "outputs": [],
   "source": [
    "bird_point['date'] = pd.to_datetime(bird_point.date.astype(str) + '0101')\n",
    "bird_point = bird_point.drop(columns=['type'])"
   ]
  },
  {
   "cell_type": "code",
   "execution_count": 15,
   "id": "f7117a4c-b770-4406-9ae7-5852d0fe1013",
   "metadata": {},
   "outputs": [],
   "source": [
    "def zonal_stats_wrapper(geo,raster,nodata=-999,stats='mean',all_touched=True):\n",
    "    result = rasterstats.zonal_stats(geo,raster,nodata=nodata,stats=stats,all_touched=all_touched)\n",
    "    result_list = [x['mean'] for x in result]\n",
    "    return result_list\n",
    "\n",
    "bird_rate = calculate_rate(bird_point,location='start')\n",
    "rang_rate = calculate_rate(rang_point,location='start')\n",
    "\n",
    "buffer = 10\n",
    "options = {'nodata':'-999','stats':'mean','all_touched':'True'}\n",
    "    \n",
    "rang_rate['geometry'] = rang_rate.buffer(buffer)\n",
    "bird_rate['geometry'] = bird_rate.buffer(buffer)\n",
    "\n",
    "rang_rate['po_e_rate'] = zonal_stats_wrapper(rang_rate.geometry,'rangitikei_velocity_ew.tif')\n",
    "rang_rate['po_n_rate'] = zonal_stats_wrapper(rang_rate.geometry,'rangitikei_velocity_ns.tif')\n",
    "\n",
    "bird_rate['po_e_rate'] = zonal_stats_wrapper(bird_rate.geometry,'bird_velocity_ew.tif')\n",
    "bird_rate['po_n_rate'] = zonal_stats_wrapper(bird_rate.geometry,'bird_velocity_ns.tif')"
   ]
  },
  {
   "cell_type": "code",
   "execution_count": 16,
   "id": "917e198f-9a8e-435d-beea-0c6b6589ad84",
   "metadata": {},
   "outputs": [
    {
     "data": {
      "image/png": "[encoded data removed]",
      "text/plain": [
       "<Figure size 500x500 with 1 Axes>"
      ]
     },
     "metadata": {
      "needs_background": "light"
     },
     "output_type": "display_data"
    }
   ],
   "source": [
    "%matplotlib inline\n",
    "import matplotlib.pyplot as plt\n",
    "\n",
    "b = 20\n",
    "bounds = [rang_rate.east.min()-b,rang_rate.east.max()+b,rang_rate.north.min()-b,rang_rate.north.max()+b]\n",
    "\n",
    "options = dict(angles='xy',scale_units='xy',scale=0.066,width=0.0075)\n",
    "\n",
    "fig, ax = plt.subplots(figsize=(10,10),dpi=50)\n",
    "\n",
    "ax.quiver(rang_rate.east, rang_rate.north, rang_rate.e_rate, rang_rate.n_rate,color='red',label='GPS',**options)\n",
    "ax.quiver(rang_rate.east, rang_rate.north, rang_rate.po_e_rate, rang_rate.po_n_rate,color='blue',label='Pixel Offset',**options)\n",
    "ax.legend(loc='upper right', frameon=True)\n",
    "ax.set_aspect('equal', 'box')"
   ]
  },
  {
   "cell_type": "code",
   "execution_count": 17,
   "id": "a9d62c81-d74d-49c0-8444-72a8565b0742",
   "metadata": {},
   "outputs": [
    {
     "data": {
      "image/png": "[encoded data removed]",
      "text/plain": [
       "<Figure size 500x500 with 1 Axes>"
      ]
     },
     "metadata": {
      "needs_background": "light"
     },
     "output_type": "display_data"
    }
   ],
   "source": [
    "%matplotlib inline\n",
    "import matplotlib.pyplot as plt\n",
    "\n",
    "b = 100\n",
    "bounds = [bird_rate.east.min()-b,bird_rate.east.max()+b,bird_rate.north.min()-b,bird_rate.north.max()+b]\n",
    "\n",
    "options = dict(angles='xy',scale_units='xy',scale=0.066,width=0.0075)\n",
    "\n",
    "fig, ax = plt.subplots(figsize=(10,10),dpi=50)\n",
    "\n",
    "ax.quiver(bird_rate.east, bird_rate.north, bird_rate.e_rate, bird_rate.n_rate,color='red',label='GPS',**options)\n",
    "ax.quiver(bird_rate.east, bird_rate.north, bird_rate.po_e_rate, bird_rate.po_n_rate,color='blue',label='Pixel Offset',**options)\n",
    "ax.legend(loc='upper right', frameon=True)\n",
    "ax.set_aspect('equal', 'box')\n",
    "ax.set_xbound(lower=bounds[0],upper=bounds[1])\n",
    "ax.set_ybound(lower=bounds[2],upper=bounds[3])"
   ]
  },
  {
   "cell_type": "code",
   "execution_count": 18,
   "id": "817c985e-fca4-407f-bcac-d6df53a02f55",
   "metadata": {},
   "outputs": [],
   "source": [
    "og_rang = rang_rate.copy()\n",
    "rang_rate = rang_rate.loc[rang_rate.name != 'Peg 22']\n",
    "\n",
    "og_rang = bird_rate.copy()\n",
    "bird_rate = bird_rate.loc[bird_rate.name != 22]"
   ]
  },
  {
   "cell_type": "code",
   "execution_count": 19,
   "id": "27c662a0-9492-4e42-bcb4-ba32bcf6ccfd",
   "metadata": {},
   "outputs": [],
   "source": [
    "rang_rate['mag_rate'] = np.sqrt((rang_rate.e_rate**2) + (rang_rate.n_rate**2))\n",
    "rang_rate['po_mag_rate'] = np.sqrt((rang_rate.po_e_rate**2) + (rang_rate.po_n_rate**2))\n",
    "rang_rate['location'] = 'rangitikei'\n",
    "\n",
    "bird_rate['mag_rate'] = np.sqrt((bird_rate.e_rate**2) + (bird_rate.n_rate**2))\n",
    "bird_rate['po_mag_rate'] = np.sqrt((bird_rate.po_e_rate**2) + (bird_rate.po_n_rate**2))\n",
    "bird_rate['location'] = 'bird'"
   ]
  },
  {
   "cell_type": "code",
   "execution_count": 20,
   "id": "2fda7778-cb50-47c1-a40f-8a946e0b0095",
   "metadata": {},
   "outputs": [],
   "source": [
    "ls_rate = rang_rate.copy().append(bird_rate)"
   ]
  },
  {
   "cell_type": "code",
   "execution_count": 22,
   "id": "071133e2-63b5-448d-ac31-4d00c1cd509c",
   "metadata": {},
   "outputs": [],
   "source": [
    "ls_rate.to_file('pot_rate_comparison.geojson')"
   ]
  },
  {
   "cell_type": "markdown",
   "id": "bf5b8f64-f170-4a54-9312-86314efcf0fb",
   "metadata": {},
   "source": [
    "## Metrics"
   ]
  },
  {
   "cell_type": "code",
   "execution_count": 16,
   "id": "3347caea-c234-4154-9f4c-3f8008720181",
   "metadata": {},
   "outputs": [
    {
     "name": "stdout",
     "output_type": "stream",
     "text": [
      "0.7518729037279457 0.9275817529365459\n"
     ]
    }
   ],
   "source": [
    "rang_e_mae = np.sqrt(metrics.mean_absolute_error(rang_rate.e_rate, rang_rate.po_e_rate))\n",
    "rang_n_mae = np.sqrt(metrics.mean_absolute_error(rang_rate.n_rate, rang_rate.po_n_rate))\n",
    "print(rang_e_mae,rang_n_mae)"
   ]
  },
  {
   "cell_type": "code",
   "execution_count": 17,
   "id": "a8554564-3313-435f-a30f-c85452ee73a3",
   "metadata": {},
   "outputs": [
    {
     "name": "stdout",
     "output_type": "stream",
     "text": [
      "1.020446454214173 1.1822781864536793\n"
     ]
    }
   ],
   "source": [
    "bird_e_mae = np.sqrt(metrics.mean_absolute_error(bird_rate.e_rate, bird_rate.po_e_rate))\n",
    "bird_n_mae = np.sqrt(metrics.mean_absolute_error(bird_rate.n_rate, bird_rate.po_n_rate))\n",
    "print(bird_e_mae,bird_n_mae)"
   ]
  },
  {
   "cell_type": "code",
   "execution_count": 18,
   "id": "afba12b9-4a00-483b-aec9-a538a4ad9f30",
   "metadata": {},
   "outputs": [],
   "source": [
    "# 1.5125552111829705 1.9126884119590177"
   ]
  },
  {
   "cell_type": "code",
   "execution_count": 19,
   "id": "4777f4b1-c45d-4650-94ed-8cec78b06755",
   "metadata": {},
   "outputs": [
    {
     "name": "stdout",
     "output_type": "stream",
     "text": [
      "0.9194492547132801 0.9964413290989108\n"
     ]
    }
   ],
   "source": [
    "rang_mae = np.sqrt(metrics.mean_absolute_error(rang_rate.mag_rate, rang_rate.po_mag_rate))\n",
    "bird_mae = np.sqrt(metrics.mean_absolute_error(bird_rate.mag_rate, bird_rate.po_mag_rate))\n",
    "print(rang_mae,bird_mae)"
   ]
  },
  {
   "cell_type": "code",
   "execution_count": null,
   "id": "3b960ec6-c165-4941-a5e4-f2f1ad387af2",
   "metadata": {},
   "outputs": [
    {
     "name": "stdout",
     "output_type": "stream",
     "text": [
      "1.2109014336575796 2.8773577527073164\n"
     ]
    }
   ],
   "source": [
    "print(rang_rate.mag_rate.mean(), bird_rate.mag_rate.mean())"
   ]
  },
  {
   "cell_type": "code",
   "execution_count": 37,
   "id": "72ce9fd3-b343-48b7-93b1-e45e7fd35ae6",
   "metadata": {},
   "outputs": [
    {
     "name": "stdout",
     "output_type": "stream",
     "text": [
      "7 3.81328665088649 0.9706202796345819\n"
     ]
    }
   ],
   "source": [
    "rang_fast = rang_rate.loc[rang_rate.mag_rate >= 1].copy()\n",
    "print(rang_fast.shape[0], rang_fast.mag_rate.mean(), metrics.mean_absolute_error(rang_fast.mag_rate, rang_fast.po_mag_rate))"
   ]
  },
  {
   "cell_type": "code",
   "execution_count": 38,
   "id": "0809260c-404a-4f05-bbf8-ad96817896c1",
   "metadata": {},
   "outputs": [
    {
     "name": "stdout",
     "output_type": "stream",
     "text": [
      "15 3.1751073507123917 1.012176891883423\n"
     ]
    }
   ],
   "source": [
    "bird_fast = bird_rate.loc[bird_rate.mag_rate >= 1].copy()\n",
    "print(bird_fast.shape[0], bird_fast.mag_rate.mean(), metrics.mean_absolute_error(bird_fast.mag_rate, bird_fast.po_mag_rate))"
   ]
  },
  {
   "cell_type": "code",
   "execution_count": 41,
   "id": "df9b415e-d681-41bf-a8b4-32ad62b18272",
   "metadata": {},
   "outputs": [
    {
     "name": "stdout",
     "output_type": "stream",
     "text": [
      "19 0.2521279325732441 0.7992483302300467\n"
     ]
    }
   ],
   "source": [
    "rang_slow = rang_rate.loc[rang_rate.mag_rate < 1].copy()\n",
    "print(rang_slow.shape[0], rang_slow.mag_rate.mean(), metrics.mean_absolute_error(rang_slow.mag_rate, rang_slow.po_mag_rate))"
   ]
  },
  {
   "cell_type": "code",
   "execution_count": 42,
   "id": "c049dac3-bd0a-4b31-9c63-c7d557e8b5c3",
   "metadata": {},
   "outputs": [
    {
     "name": "stdout",
     "output_type": "stream",
     "text": [
      "2 0.6442357676692547 0.8482835507337606\n"
     ]
    }
   ],
   "source": [
    "bird_slow = bird_rate.loc[bird_rate.mag_rate < 1].copy()\n",
    "print(bird_slow.shape[0], bird_slow.mag_rate.mean(), metrics.mean_absolute_error(bird_slow.mag_rate, bird_slow.po_mag_rate))"
   ]
  },
  {
   "cell_type": "code",
   "execution_count": null,
   "id": "77b1668d-50e2-4ef4-9fcb-2e32d89d1a48",
   "metadata": {},
   "outputs": [],
   "source": []
  }
 ],
 "metadata": {
  "kernelspec": {
   "display_name": "Python 3 (ipykernel)",
   "language": "python",
   "name": "python3"
  },
  "language_info": {
   "codemirror_mode": {
    "name": "ipython",
    "version": 3
   },
   "file_extension": ".py",
   "mimetype": "text/x-python",
   "name": "python",
   "nbconvert_exporter": "python",
   "pygments_lexer": "ipython3",
   "version": "3.9.5"
  }
 },
 "nbformat": 4,
 "nbformat_minor": 5
}
